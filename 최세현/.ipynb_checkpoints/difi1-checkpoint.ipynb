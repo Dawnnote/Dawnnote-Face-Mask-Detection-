{
 "cells": [
  {
   "cell_type": "code",
   "execution_count": 1,
   "metadata": {
    "colab": {
     "base_uri": "https://localhost:8080/"
    },
    "executionInfo": {
     "elapsed": 20303,
     "status": "ok",
     "timestamp": 1673570521158,
     "user": {
      "displayName": "최세현",
      "userId": "16846966499521370498"
     },
     "user_tz": -540
    },
    "id": "0xAHYxftZAuK",
    "outputId": "aaf0ac21-b4f7-489e-bf75-815381da8d11"
   },
   "outputs": [
    {
     "name": "stdout",
     "output_type": "stream",
     "text": [
      "Looking in indexes: https://pypi.org/simple, https://us-python.pkg.dev/colab-wheels/public/simple/\n",
      "Collecting openmim\n",
      "  Downloading openmim-0.3.4-py2.py3-none-any.whl (50 kB)\n",
      "\u001b[2K     \u001b[90m━━━━━━━━━━━━━━━━━━━━━━━━━━━━━━━━━━━━━━━━\u001b[0m \u001b[32m50.7/50.7 KB\u001b[0m \u001b[31m1.3 MB/s\u001b[0m eta \u001b[36m0:00:00\u001b[0m\n",
      "\u001b[?25hRequirement already satisfied: pandas in /usr/local/lib/python3.8/dist-packages (from openmim) (1.3.5)\n",
      "Collecting rich\n",
      "  Downloading rich-13.0.1-py3-none-any.whl (238 kB)\n",
      "\u001b[2K     \u001b[90m━━━━━━━━━━━━━━━━━━━━━━━━━━━━━━━━━━━━━━━\u001b[0m \u001b[32m238.1/238.1 KB\u001b[0m \u001b[31m5.7 MB/s\u001b[0m eta \u001b[36m0:00:00\u001b[0m\n",
      "\u001b[?25hRequirement already satisfied: pip>=19.3 in /usr/local/lib/python3.8/dist-packages (from openmim) (22.0.4)\n",
      "Requirement already satisfied: requests in /usr/local/lib/python3.8/dist-packages (from openmim) (2.25.1)\n",
      "Collecting model-index\n",
      "  Downloading model_index-0.1.11-py3-none-any.whl (34 kB)\n",
      "Requirement already satisfied: tabulate in /usr/local/lib/python3.8/dist-packages (from openmim) (0.8.10)\n",
      "Collecting colorama\n",
      "  Downloading colorama-0.4.6-py2.py3-none-any.whl (25 kB)\n",
      "Requirement already satisfied: Click in /usr/local/lib/python3.8/dist-packages (from openmim) (7.1.2)\n",
      "Requirement already satisfied: pyyaml in /usr/local/lib/python3.8/dist-packages (from model-index->openmim) (6.0)\n",
      "Requirement already satisfied: markdown in /usr/local/lib/python3.8/dist-packages (from model-index->openmim) (3.4.1)\n",
      "Collecting ordered-set\n",
      "  Downloading ordered_set-4.1.0-py3-none-any.whl (7.6 kB)\n",
      "Requirement already satisfied: numpy>=1.17.3 in /usr/local/lib/python3.8/dist-packages (from pandas->openmim) (1.21.6)\n",
      "Requirement already satisfied: python-dateutil>=2.7.3 in /usr/local/lib/python3.8/dist-packages (from pandas->openmim) (2.8.2)\n",
      "Requirement already satisfied: pytz>=2017.3 in /usr/local/lib/python3.8/dist-packages (from pandas->openmim) (2022.7)\n",
      "Requirement already satisfied: certifi>=2017.4.17 in /usr/local/lib/python3.8/dist-packages (from requests->openmim) (2022.12.7)\n",
      "Requirement already satisfied: chardet<5,>=3.0.2 in /usr/local/lib/python3.8/dist-packages (from requests->openmim) (4.0.0)\n",
      "Requirement already satisfied: urllib3<1.27,>=1.21.1 in /usr/local/lib/python3.8/dist-packages (from requests->openmim) (1.24.3)\n",
      "Requirement already satisfied: idna<3,>=2.5 in /usr/local/lib/python3.8/dist-packages (from requests->openmim) (2.10)\n",
      "Requirement already satisfied: pygments<3.0.0,>=2.6.0 in /usr/local/lib/python3.8/dist-packages (from rich->openmim) (2.6.1)\n",
      "Requirement already satisfied: typing-extensions<5.0,>=4.0.0 in /usr/local/lib/python3.8/dist-packages (from rich->openmim) (4.4.0)\n",
      "Collecting commonmark<0.10.0,>=0.9.0\n",
      "  Downloading commonmark-0.9.1-py2.py3-none-any.whl (51 kB)\n",
      "\u001b[2K     \u001b[90m━━━━━━━━━━━━━━━━━━━━━━━━━━━━━━━━━━━━━━━━\u001b[0m \u001b[32m51.1/51.1 KB\u001b[0m \u001b[31m3.2 MB/s\u001b[0m eta \u001b[36m0:00:00\u001b[0m\n",
      "\u001b[?25hRequirement already satisfied: six>=1.5 in /usr/local/lib/python3.8/dist-packages (from python-dateutil>=2.7.3->pandas->openmim) (1.15.0)\n",
      "Requirement already satisfied: importlib-metadata>=4.4 in /usr/local/lib/python3.8/dist-packages (from markdown->model-index->openmim) (6.0.0)\n",
      "Requirement already satisfied: zipp>=0.5 in /usr/local/lib/python3.8/dist-packages (from importlib-metadata>=4.4->markdown->model-index->openmim) (3.11.0)\n",
      "Installing collected packages: commonmark, rich, ordered-set, colorama, model-index, openmim\n",
      "Successfully installed colorama-0.4.6 commonmark-0.9.1 model-index-0.1.11 openmim-0.3.4 ordered-set-4.1.0 rich-13.0.1\n",
      "Looking in indexes: https://pypi.org/simple, https://us-python.pkg.dev/colab-wheels/public/simple/\n",
      "Looking in links: https://download.openmmlab.com/mmcv/dist/cu116/torch1.13.0/index.html\n",
      "Collecting mmcv-full\n",
      "  Downloading https://download.openmmlab.com/mmcv/dist/cu116/torch1.13.0/mmcv_full-1.7.1-cp38-cp38-manylinux1_x86_64.whl (46.1 MB)\n",
      "\u001b[2K     \u001b[90m━━━━━━━━━━━━━━━━━━━━━━━━━━━━━━━━━━━━━━━━\u001b[0m \u001b[32m46.1/46.1 MB\u001b[0m \u001b[31m28.6 MB/s\u001b[0m eta \u001b[36m0:00:00\u001b[0m\n",
      "\u001b[?25hCollecting yapf\n",
      "  Downloading yapf-0.32.0-py2.py3-none-any.whl (190 kB)\n",
      "\u001b[2K     \u001b[90m━━━━━━━━━━━━━━━━━━━━━━━━━━━━━━━━━━━━━━━\u001b[0m \u001b[32m190.2/190.2 KB\u001b[0m \u001b[31m5.0 MB/s\u001b[0m eta \u001b[36m0:00:00\u001b[0m\n",
      "\u001b[?25hRequirement already satisfied: numpy in /usr/local/lib/python3.8/dist-packages (from mmcv-full) (1.21.6)\n",
      "Requirement already satisfied: pyyaml in /usr/local/lib/python3.8/dist-packages (from mmcv-full) (6.0)\n",
      "Requirement already satisfied: packaging in /usr/local/lib/python3.8/dist-packages (from mmcv-full) (21.3)\n",
      "Requirement already satisfied: opencv-python>=3 in /usr/local/lib/python3.8/dist-packages (from mmcv-full) (4.6.0.66)\n",
      "Collecting addict\n",
      "  Downloading addict-2.4.0-py3-none-any.whl (3.8 kB)\n",
      "Requirement already satisfied: Pillow in /usr/local/lib/python3.8/dist-packages (from mmcv-full) (7.1.2)\n",
      "Requirement already satisfied: pyparsing!=3.0.5,>=2.0.2 in /usr/local/lib/python3.8/dist-packages (from packaging->mmcv-full) (3.0.9)\n",
      "Installing collected packages: yapf, addict, mmcv-full\n",
      "Successfully installed addict-2.4.0 mmcv-full-1.7.1 yapf-0.32.0\n"
     ]
    }
   ],
   "source": [
    "!pip3 install openmim\n",
    "!mim install mmcv-full"
   ]
  },
  {
   "cell_type": "code",
   "execution_count": 2,
   "metadata": {
    "colab": {
     "base_uri": "https://localhost:8080/"
    },
    "executionInfo": {
     "elapsed": 14578,
     "status": "ok",
     "timestamp": 1673570535716,
     "user": {
      "displayName": "최세현",
      "userId": "16846966499521370498"
     },
     "user_tz": -540
    },
    "id": "ZbTSSknGZB2D",
    "outputId": "fd58455d-bfdd-44dc-e4da-97c1f9519a19"
   },
   "outputs": [
    {
     "name": "stdout",
     "output_type": "stream",
     "text": [
      "Cloning into 'mmdetection'...\n",
      "remote: Enumerating objects: 33473, done.\u001b[K\n",
      "remote: Counting objects: 100% (130/130), done.\u001b[K\n",
      "remote: Compressing objects: 100% (102/102), done.\u001b[K\n",
      "remote: Total 33473 (delta 44), reused 85 (delta 27), pack-reused 33343\u001b[K\n",
      "Receiving objects: 100% (33473/33473), 45.23 MiB | 17.76 MiB/s, done.\n",
      "Resolving deltas: 100% (23627/23627), done.\n",
      "/content/mmdetection\n",
      "Looking in indexes: https://pypi.org/simple, https://us-python.pkg.dev/colab-wheels/public/simple/\n",
      "Obtaining file:///content/mmdetection\n",
      "  Preparing metadata (setup.py) ... \u001b[?25l\u001b[?25hdone\n",
      "Requirement already satisfied: matplotlib in /usr/local/lib/python3.8/dist-packages (from mmdet==2.27.0) (3.2.2)\n",
      "Requirement already satisfied: numpy in /usr/local/lib/python3.8/dist-packages (from mmdet==2.27.0) (1.21.6)\n",
      "Requirement already satisfied: pycocotools in /usr/local/lib/python3.8/dist-packages (from mmdet==2.27.0) (2.0.6)\n",
      "Requirement already satisfied: scipy in /usr/local/lib/python3.8/dist-packages (from mmdet==2.27.0) (1.7.3)\n",
      "Requirement already satisfied: six in /usr/local/lib/python3.8/dist-packages (from mmdet==2.27.0) (1.15.0)\n",
      "Collecting terminaltables\n",
      "  Downloading terminaltables-3.1.10-py2.py3-none-any.whl (15 kB)\n",
      "Requirement already satisfied: pyparsing!=2.0.4,!=2.1.2,!=2.1.6,>=2.0.1 in /usr/local/lib/python3.8/dist-packages (from matplotlib->mmdet==2.27.0) (3.0.9)\n",
      "Requirement already satisfied: python-dateutil>=2.1 in /usr/local/lib/python3.8/dist-packages (from matplotlib->mmdet==2.27.0) (2.8.2)\n",
      "Requirement already satisfied: cycler>=0.10 in /usr/local/lib/python3.8/dist-packages (from matplotlib->mmdet==2.27.0) (0.11.0)\n",
      "Requirement already satisfied: kiwisolver>=1.0.1 in /usr/local/lib/python3.8/dist-packages (from matplotlib->mmdet==2.27.0) (1.4.4)\n",
      "Installing collected packages: terminaltables, mmdet\n",
      "  Running setup.py develop for mmdet\n",
      "Successfully installed mmdet-2.27.0 terminaltables-3.1.10\n"
     ]
    }
   ],
   "source": [
    "!git clone https://github.com/open-mmlab/mmdetection.git\n",
    "%cd mmdetection\n",
    "!pip install -e ."
   ]
  },
  {
   "cell_type": "code",
   "execution_count": 3,
   "metadata": {
    "colab": {
     "base_uri": "https://localhost:8080/"
    },
    "executionInfo": {
     "elapsed": 2479,
     "status": "ok",
     "timestamp": 1673570538181,
     "user": {
      "displayName": "최세현",
      "userId": "16846966499521370498"
     },
     "user_tz": -540
    },
    "id": "f-d20FjeZEDK",
    "outputId": "1a99880a-11bd-4bd0-bc72-ad9e63ec35bf"
   },
   "outputs": [
    {
     "name": "stdout",
     "output_type": "stream",
     "text": [
      "2.27.0\n"
     ]
    },
    {
     "name": "stderr",
     "output_type": "stream",
     "text": [
      "/usr/local/lib/python3.8/dist-packages/mmcv/__init__.py:20: UserWarning: On January 1, 2023, MMCV will release v2.0.0, in which it will remove components related to the training process and add a data transformation module. In addition, it will rename the package names mmcv to mmcv-lite and mmcv-full to mmcv. See https://github.com/open-mmlab/mmcv/blob/master/docs/en/compatibility.md for more details.\n",
      "  warnings.warn(\n"
     ]
    }
   ],
   "source": [
    "import mmdet\n",
    "print(mmdet.__version__)\n",
    "# Example output: 2.26.0"
   ]
  },
  {
   "cell_type": "code",
   "execution_count": 4,
   "metadata": {
    "colab": {
     "base_uri": "https://localhost:8080/"
    },
    "executionInfo": {
     "elapsed": 5846,
     "status": "ok",
     "timestamp": 1673570544009,
     "user": {
      "displayName": "최세현",
      "userId": "16846966499521370498"
     },
     "user_tz": -540
    },
    "id": "oFALe8boZL47",
    "outputId": "64c482bc-54d4-45e0-ac28-31fd0dd54466"
   },
   "outputs": [
    {
     "name": "stdout",
     "output_type": "stream",
     "text": [
      "/usr/local/lib/python3.8/dist-packages/mmcv/__init__.py:20: UserWarning: On January 1, 2023, MMCV will release v2.0.0, in which it will remove components related to the training process and add a data transformation module. In addition, it will rename the package names mmcv to mmcv-lite and mmcv-full to mmcv. See https://github.com/open-mmlab/mmcv/blob/master/docs/en/compatibility.md for more details.\n",
      "  warnings.warn(\n",
      "processing yolov3_mobilenetv2_320_300e_coco...\n",
      "\u001b[2Kdownloading \u001b[90m━━━━━━━━━━━━━━━━━━━━━━━━━━━━━━━━\u001b[0m \u001b[32m14.5/14.5 MiB\u001b[0m \u001b[31m70.5 MB/s\u001b[0m eta \u001b[36m0:00:00\u001b[0m\n",
      "\u001b[?25h\u001b[32mSuccessfully downloaded yolov3_mobilenetv2_320_300e_coco_20210719_215349-d18dff72.pth to /content/mmdetection\u001b[0m\n",
      "\u001b[32mSuccessfully dumped yolov3_mobilenetv2_320_300e_coco.py to /content/mmdetection\u001b[0m\n"
     ]
    }
   ],
   "source": [
    "!mim download mmdet --config yolov3_mobilenetv2_320_300e_coco --dest ."
   ]
  },
  {
   "cell_type": "code",
   "execution_count": 5,
   "metadata": {
    "colab": {
     "base_uri": "https://localhost:8080/"
    },
    "executionInfo": {
     "elapsed": 3265,
     "status": "ok",
     "timestamp": 1673570547268,
     "user": {
      "displayName": "최세현",
      "userId": "16846966499521370498"
     },
     "user_tz": -540
    },
    "id": "vEL-u-k0ZOjn",
    "outputId": "9634c6ae-9c1e-49aa-fd50-66e4a3cddd2d"
   },
   "outputs": [
    {
     "name": "stdout",
     "output_type": "stream",
     "text": [
      "load checkpoint from local path: yolov3_mobilenetv2_320_300e_coco_20210719_215349-d18dff72.pth\n"
     ]
    },
    {
     "data": {
      "text/plain": [
       "[array([[5.12588043e+01, 1.13287674e+02, 6.75582886e+01, 1.32954651e+02,\n",
       "         5.93155436e-02],\n",
       "        [5.45404846e+02, 1.11175247e+02, 5.58186951e+02, 1.24366737e+02,\n",
       "         5.03070503e-02],\n",
       "        [3.66082550e+02, 1.23854057e+02, 3.81954681e+02, 1.45346939e+02,\n",
       "         4.83217202e-02],\n",
       "        [4.92554970e+01, 1.18862099e+02, 6.38435555e+01, 1.42556519e+02,\n",
       "         4.66163717e-02],\n",
       "        [5.28772766e+02, 1.10966644e+02, 5.40577209e+02, 1.23876968e+02,\n",
       "         3.13960202e-02],\n",
       "        [4.50718292e+02, 1.01557198e+02, 4.62131439e+02, 1.10339989e+02,\n",
       "         2.94490140e-02],\n",
       "        [2.09123947e+02, 9.55709229e+01, 2.23539291e+02, 1.06074478e+02,\n",
       "         2.49082837e-02],\n",
       "        [3.54278015e+02, 1.14047302e+02, 3.68170349e+02, 1.26227058e+02,\n",
       "         2.37890147e-02],\n",
       "        [2.86970093e+02, 1.19910110e+02, 3.04447571e+02, 1.50397400e+02,\n",
       "         1.87797677e-02],\n",
       "        [2.17763092e+02, 1.62588028e+02, 4.57619904e+02, 3.39809723e+02,\n",
       "         1.80731844e-02],\n",
       "        [1.74219376e+02, 9.32996292e+01, 1.90263229e+02, 1.03520355e+02,\n",
       "         1.38499681e-02]], dtype=float32),\n",
       " array([[3.8068033e+02, 1.2973906e+02, 4.3176468e+02, 1.8017957e+02,\n",
       "         7.0224583e-02],\n",
       "        [4.9255497e+01, 1.1886210e+02, 6.3843555e+01, 1.4255652e+02,\n",
       "         2.0966176e-02]], dtype=float32),\n",
       " array([[4.84224304e+02, 1.09205452e+02, 5.19258728e+02, 1.27173874e+02,\n",
       "         7.79660106e-01],\n",
       "        [4.05871094e+02, 1.13228157e+02, 4.37623047e+02, 1.30331894e+02,\n",
       "         7.19330490e-01],\n",
       "        [5.88675964e+02, 1.09700737e+02, 6.11871399e+02, 1.25410515e+02,\n",
       "         6.80820405e-01],\n",
       "        [6.06877563e+02, 1.09793243e+02, 6.29585449e+02, 1.29659454e+02,\n",
       "         6.45487130e-01],\n",
       "        [5.71930115e+02, 1.10636299e+02, 5.94151550e+02, 1.24725677e+02,\n",
       "         6.27648294e-01],\n",
       "        [1.87903656e+02, 1.12218277e+02, 3.04713043e+02, 1.54589569e+02,\n",
       "         6.12075090e-01],\n",
       "        [1.39440521e+02, 9.26253510e+01, 1.66057739e+02, 1.03983475e+02,\n",
       "         5.99574983e-01],\n",
       "        [2.86246460e+02, 1.15292290e+02, 3.74510620e+02, 1.48713013e+02,\n",
       "         5.79995990e-01],\n",
       "        [4.30631165e+02, 1.11785759e+02, 4.49822449e+02, 1.28338318e+02,\n",
       "         4.88935411e-01],\n",
       "        [4.49332184e+02, 1.04804115e+02, 4.87294952e+02, 1.27992767e+02,\n",
       "         4.75187600e-01],\n",
       "        [5.53370422e+02, 1.10670166e+02, 5.83853088e+02, 1.25369057e+02,\n",
       "         4.59071934e-01],\n",
       "        [5.45404846e+02, 1.11175247e+02, 5.58186951e+02, 1.24366737e+02,\n",
       "         4.50418144e-01],\n",
       "        [6.13968994e+02, 1.09208679e+02, 6.39320435e+02, 1.34227539e+02,\n",
       "         4.38080400e-01],\n",
       "        [1.62553215e+00, 1.09434784e+02, 2.05751381e+01, 1.32598465e+02,\n",
       "         3.64239514e-01],\n",
       "        [5.14070007e+02, 1.10501259e+02, 5.29305237e+02, 1.23865974e+02,\n",
       "         3.27737391e-01],\n",
       "        [2.66772095e+02, 1.08039192e+02, 3.26010925e+02, 1.36251465e+02,\n",
       "         3.23637694e-01],\n",
       "        [2.73102295e+02, 1.06383011e+02, 3.13094238e+02, 1.26782631e+02,\n",
       "         3.12772721e-01],\n",
       "        [6.15280113e+01, 9.56883316e+01, 8.74710999e+01, 1.07362244e+02,\n",
       "         2.91535616e-01],\n",
       "        [5.28772766e+02, 1.10966644e+02, 5.40577209e+02, 1.23876968e+02,\n",
       "         2.89010286e-01],\n",
       "        [8.63842545e+01, 9.13400421e+01, 1.15847527e+02, 1.05434250e+02,\n",
       "         2.84419268e-01],\n",
       "        [2.21262665e+02, 9.54547272e+01, 2.49258636e+02, 1.08088593e+02,\n",
       "         2.67442495e-01],\n",
       "        [8.78924789e+01, 8.84631348e+01, 1.13798058e+02, 9.97458878e+01,\n",
       "         2.53727943e-01],\n",
       "        [1.74219376e+02, 9.32996292e+01, 1.90263229e+02, 1.03520355e+02,\n",
       "         2.47327298e-01],\n",
       "        [5.12588043e+01, 1.13287674e+02, 6.75582886e+01, 1.32954651e+02,\n",
       "         2.43471831e-01],\n",
       "        [7.38075790e+01, 8.82789078e+01, 1.05437370e+02, 9.96334763e+01,\n",
       "         2.19714031e-01],\n",
       "        [3.66082550e+02, 1.23854057e+02, 3.81954681e+02, 1.45346939e+02,\n",
       "         2.03029066e-01],\n",
       "        [1.56599854e+02, 9.29619980e+01, 1.80378143e+02, 1.04616165e+02,\n",
       "         1.77211553e-01],\n",
       "        [1.64020996e+02, 1.09799446e+02, 2.28195557e+02, 1.41605927e+02,\n",
       "         1.66051790e-01],\n",
       "        [3.26987457e+02, 1.14805847e+02, 3.57943451e+02, 1.26834610e+02,\n",
       "         1.31454498e-01],\n",
       "        [2.09123947e+02, 9.55709229e+01, 2.23539291e+02, 1.06074478e+02,\n",
       "         1.18451893e-01],\n",
       "        [2.31754501e+02, 9.95378876e+01, 2.57636536e+02, 1.10638992e+02,\n",
       "         1.17583476e-01],\n",
       "        [3.63483246e+02, 1.15518066e+02, 3.83390045e+02, 1.27985947e+02,\n",
       "         1.09576732e-01],\n",
       "        [4.92554970e+01, 1.18862099e+02, 6.38435555e+01, 1.42556519e+02,\n",
       "         1.00383468e-01],\n",
       "        [1.39871567e+02, 9.00688705e+01, 1.61130692e+02, 9.96320953e+01,\n",
       "         8.48723128e-02],\n",
       "        [5.53278351e+01, 8.97248459e+01, 1.20776398e+02, 1.15663841e+02,\n",
       "         7.96491578e-02],\n",
       "        [1.29759781e+02, 9.34196396e+01, 1.48964951e+02, 1.05842171e+02,\n",
       "         7.20716566e-02],\n",
       "        [6.63498917e+01, 8.89381561e+01, 8.50272598e+01, 9.88356171e+01,\n",
       "         6.90776855e-02],\n",
       "        [3.54278015e+02, 1.14047302e+02, 3.68170349e+02, 1.26227058e+02,\n",
       "         6.85032085e-02],\n",
       "        [6.10633240e+02, 1.03949654e+02, 6.27130920e+02, 1.12994804e+02,\n",
       "         5.94569668e-02],\n",
       "        [1.93600433e+02, 9.51991501e+01, 2.06850861e+02, 1.05816696e+02,\n",
       "         5.76375239e-02],\n",
       "        [1.75658737e+02, 9.04607391e+01, 1.91872238e+02, 9.86051178e+01,\n",
       "         5.42342216e-02],\n",
       "        [2.77883118e+02, 1.04046181e+02, 3.12003845e+02, 1.14605133e+02,\n",
       "         4.39802445e-02],\n",
       "        [1.67040390e+02, 1.12228935e+02, 2.04172897e+02, 1.35592804e+02,\n",
       "         4.31918018e-02],\n",
       "        [2.12841339e+02, 1.08410347e+02, 3.79517426e+02, 1.55311890e+02,\n",
       "         4.10294570e-02],\n",
       "        [5.46703430e+02, 1.04638275e+02, 5.55340637e+02, 1.13298965e+02,\n",
       "         3.79383042e-02],\n",
       "        [3.66430695e+02, 1.02032745e+02, 3.79537079e+02, 1.11501122e+02,\n",
       "         3.73164117e-02],\n",
       "        [7.21423626e+00, 1.10753540e+02, 3.14781303e+01, 1.30075394e+02,\n",
       "         3.41972150e-02],\n",
       "        [2.97509308e+02, 1.11904854e+02, 3.23681610e+02, 1.27448059e+02,\n",
       "         3.36822197e-02],\n",
       "        [2.38976212e+02, 8.73057632e+01, 2.56811859e+02, 9.54882050e+01,\n",
       "         3.12275086e-02],\n",
       "        [3.80680328e+02, 1.29739059e+02, 4.31764679e+02, 1.80179565e+02,\n",
       "         3.10294237e-02],\n",
       "        [2.23875534e+02, 9.00366898e+01, 2.42960159e+02, 9.73815155e+01,\n",
       "         3.04248612e-02],\n",
       "        [3.43587585e+02, 1.23907036e+02, 3.78474976e+02, 1.44984497e+02,\n",
       "         3.00086662e-02],\n",
       "        [2.67274323e+02, 1.03172333e+02, 2.92901520e+02, 1.14189789e+02,\n",
       "         2.80303210e-02],\n",
       "        [2.57446533e+02, 1.00685715e+02, 2.70609375e+02, 1.11627060e+02,\n",
       "         2.64798719e-02],\n",
       "        [3.98607971e+02, 1.22631119e+02, 4.19045715e+02, 1.39587418e+02,\n",
       "         2.46017091e-02],\n",
       "        [5.90301636e+02, 1.05320915e+02, 6.09258545e+02, 1.14378075e+02,\n",
       "         2.44483817e-02],\n",
       "        [6.22619019e+02, 1.01891342e+02, 6.34767212e+02, 1.10462990e+02,\n",
       "         2.43628565e-02],\n",
       "        [3.76442902e+02, 1.07332375e+02, 4.40084625e+02, 1.36264908e+02,\n",
       "         2.29613557e-02],\n",
       "        [3.20470703e+02, 1.13229027e+02, 3.40898865e+02, 1.24677986e+02,\n",
       "         2.27063652e-02],\n",
       "        [3.60093445e+02, 1.17400406e+02, 4.25929199e+02, 1.54278854e+02,\n",
       "         2.26464532e-02],\n",
       "        [2.09008041e+02, 9.02622910e+01, 2.24494888e+02, 9.70311966e+01,\n",
       "         2.25624386e-02],\n",
       "        [3.76631287e+02, 1.13708931e+02, 4.11470947e+02, 1.27998520e+02,\n",
       "         2.21715383e-02],\n",
       "        [7.76201248e-01, 1.16134300e+02, 2.13127098e+01, 1.45279022e+02,\n",
       "         2.19856966e-02],\n",
       "        [5.37203918e+02, 1.07230804e+02, 6.00176941e+02, 1.31245560e+02,\n",
       "         2.16108225e-02],\n",
       "        [5.83548279e+01, 1.09177254e+02, 7.61180420e+01, 1.23224297e+02,\n",
       "         2.14927383e-02],\n",
       "        [1.80962067e+02, 1.09861305e+02, 2.16163635e+02, 1.32802246e+02,\n",
       "         2.10365448e-02],\n",
       "        [4.50718292e+02, 1.01557198e+02, 4.62131439e+02, 1.10339989e+02,\n",
       "         1.94403511e-02],\n",
       "        [3.78379089e+02, 1.23877907e+02, 4.07260437e+02, 1.45729324e+02,\n",
       "         1.89878866e-02],\n",
       "        [2.97737915e+02, 1.19840500e+02, 3.28164307e+02, 1.46074997e+02,\n",
       "         1.83544829e-02],\n",
       "        [4.62424896e+02, 1.03094002e+02, 4.78680573e+02, 1.12041855e+02,\n",
       "         1.81633253e-02],\n",
       "        [1.06411797e+02, 9.45190659e+01, 1.31479187e+02, 1.07078064e+02,\n",
       "         1.81296840e-02],\n",
       "        [2.55426575e+02, 8.60018158e+01, 2.70447266e+02, 9.35622253e+01,\n",
       "         1.76447164e-02],\n",
       "        [1.60005905e+02, 8.95062332e+01, 1.79931900e+02, 9.91800766e+01,\n",
       "         1.74584202e-02],\n",
       "        [4.09700745e+02, 1.01971199e+02, 4.34748596e+02, 1.13296066e+02,\n",
       "         1.68946553e-02],\n",
       "        [4.82042046e+01, 9.97478714e+01, 6.98344421e+01, 1.14799080e+02,\n",
       "         1.61325950e-02],\n",
       "        [2.56309723e+02, 1.09912247e+02, 2.72497650e+02, 1.21195976e+02,\n",
       "         1.55245978e-02],\n",
       "        [4.52048981e+02, 1.02218201e+02, 5.20527344e+02, 1.29048111e+02,\n",
       "         1.41884936e-02]], dtype=float32),\n",
       " array([], shape=(0, 5), dtype=float32),\n",
       " array([], shape=(0, 5), dtype=float32),\n",
       " array([], shape=(0, 5), dtype=float32),\n",
       " array([], shape=(0, 5), dtype=float32),\n",
       " array([[1.8790366e+02, 1.1221828e+02, 3.0471304e+02, 1.5458957e+02,\n",
       "         6.5655276e-02],\n",
       "        [7.3807579e+01, 8.8278908e+01, 1.0543737e+02, 9.9633476e+01,\n",
       "         1.7907452e-02],\n",
       "        [8.6384254e+01, 9.1340042e+01, 1.1584753e+02, 1.0543425e+02,\n",
       "         1.5979007e-02],\n",
       "        [8.7892479e+01, 8.8463135e+01, 1.1379806e+02, 9.9745888e+01,\n",
       "         1.5688941e-02]], dtype=float32),\n",
       " array([], shape=(0, 5), dtype=float32),\n",
       " array([], shape=(0, 5), dtype=float32),\n",
       " array([], shape=(0, 5), dtype=float32),\n",
       " array([], shape=(0, 5), dtype=float32),\n",
       " array([], shape=(0, 5), dtype=float32),\n",
       " array([[2.2375110e+02, 1.8063156e+02, 4.5343195e+02, 3.7423529e+02,\n",
       "         9.7718704e-01],\n",
       "        [3.8012119e+02, 1.3848749e+02, 4.3276382e+02, 1.9136147e+02,\n",
       "         3.7152299e-01],\n",
       "        [4.9255497e+01, 1.1886210e+02, 6.3843555e+01, 1.4255652e+02,\n",
       "         2.1698179e-02],\n",
       "        [3.8790604e+02, 1.6925726e+02, 4.2620456e+02, 1.8811618e+02,\n",
       "         1.8073179e-02],\n",
       "        [3.8911395e+02, 1.6152060e+02, 4.2537598e+02, 1.8011880e+02,\n",
       "         1.6829958e-02],\n",
       "        [3.7305344e+02, 1.6049788e+02, 4.1224680e+02, 1.7864487e+02,\n",
       "         1.6262643e-02]], dtype=float32),\n",
       " array([], shape=(0, 5), dtype=float32),\n",
       " array([], shape=(0, 5), dtype=float32),\n",
       " array([], shape=(0, 5), dtype=float32),\n",
       " array([], shape=(0, 5), dtype=float32),\n",
       " array([], shape=(0, 5), dtype=float32),\n",
       " array([], shape=(0, 5), dtype=float32),\n",
       " array([], shape=(0, 5), dtype=float32),\n",
       " array([], shape=(0, 5), dtype=float32),\n",
       " array([], shape=(0, 5), dtype=float32),\n",
       " array([], shape=(0, 5), dtype=float32),\n",
       " array([], shape=(0, 5), dtype=float32),\n",
       " array([], shape=(0, 5), dtype=float32),\n",
       " array([], shape=(0, 5), dtype=float32),\n",
       " array([], shape=(0, 5), dtype=float32),\n",
       " array([], shape=(0, 5), dtype=float32),\n",
       " array([], shape=(0, 5), dtype=float32),\n",
       " array([], shape=(0, 5), dtype=float32),\n",
       " array([], shape=(0, 5), dtype=float32),\n",
       " array([], shape=(0, 5), dtype=float32),\n",
       " array([], shape=(0, 5), dtype=float32),\n",
       " array([], shape=(0, 5), dtype=float32),\n",
       " array([], shape=(0, 5), dtype=float32),\n",
       " array([], shape=(0, 5), dtype=float32),\n",
       " array([], shape=(0, 5), dtype=float32),\n",
       " array([], shape=(0, 5), dtype=float32),\n",
       " array([], shape=(0, 5), dtype=float32),\n",
       " array([], shape=(0, 5), dtype=float32),\n",
       " array([], shape=(0, 5), dtype=float32),\n",
       " array([], shape=(0, 5), dtype=float32),\n",
       " array([], shape=(0, 5), dtype=float32),\n",
       " array([], shape=(0, 5), dtype=float32),\n",
       " array([], shape=(0, 5), dtype=float32),\n",
       " array([], shape=(0, 5), dtype=float32),\n",
       " array([], shape=(0, 5), dtype=float32),\n",
       " array([], shape=(0, 5), dtype=float32),\n",
       " array([], shape=(0, 5), dtype=float32),\n",
       " array([], shape=(0, 5), dtype=float32),\n",
       " array([], shape=(0, 5), dtype=float32),\n",
       " array([], shape=(0, 5), dtype=float32),\n",
       " array([], shape=(0, 5), dtype=float32),\n",
       " array([], shape=(0, 5), dtype=float32),\n",
       " array([], shape=(0, 5), dtype=float32),\n",
       " array([], shape=(0, 5), dtype=float32),\n",
       " array([], shape=(0, 5), dtype=float32),\n",
       " array([], shape=(0, 5), dtype=float32),\n",
       " array([], shape=(0, 5), dtype=float32),\n",
       " array([], shape=(0, 5), dtype=float32),\n",
       " array([], shape=(0, 5), dtype=float32),\n",
       " array([], shape=(0, 5), dtype=float32),\n",
       " array([], shape=(0, 5), dtype=float32),\n",
       " array([], shape=(0, 5), dtype=float32),\n",
       " array([], shape=(0, 5), dtype=float32),\n",
       " array([], shape=(0, 5), dtype=float32),\n",
       " array([], shape=(0, 5), dtype=float32),\n",
       " array([], shape=(0, 5), dtype=float32),\n",
       " array([], shape=(0, 5), dtype=float32),\n",
       " array([], shape=(0, 5), dtype=float32),\n",
       " array([], shape=(0, 5), dtype=float32),\n",
       " array([], shape=(0, 5), dtype=float32),\n",
       " array([], shape=(0, 5), dtype=float32),\n",
       " array([], shape=(0, 5), dtype=float32),\n",
       " array([], shape=(0, 5), dtype=float32),\n",
       " array([], shape=(0, 5), dtype=float32),\n",
       " array([], shape=(0, 5), dtype=float32),\n",
       " array([], shape=(0, 5), dtype=float32),\n",
       " array([], shape=(0, 5), dtype=float32)]"
      ]
     },
     "execution_count": 5,
     "metadata": {},
     "output_type": "execute_result"
    }
   ],
   "source": [
    "from mmdet.apis import init_detector, inference_detector\n",
    "\n",
    "config_file = 'yolov3_mobilenetv2_320_300e_coco.py'\n",
    "checkpoint_file = 'yolov3_mobilenetv2_320_300e_coco_20210719_215349-d18dff72.pth'\n",
    "model = init_detector(config_file, checkpoint_file, device='cpu')  # or device='cuda:0'\n",
    "inference_detector(model, 'demo/demo.jpg')"
   ]
  },
  {
   "cell_type": "code",
   "execution_count": 6,
   "metadata": {
    "colab": {
     "base_uri": "https://localhost:8080/"
    },
    "executionInfo": {
     "elapsed": 15805,
     "status": "ok",
     "timestamp": 1673570563065,
     "user": {
      "displayName": "최세현",
      "userId": "16846966499521370498"
     },
     "user_tz": -540
    },
    "id": "jljFFmlpZTpL",
    "outputId": "968e99e1-8fa1-46cc-c702-691575ca65f7"
   },
   "outputs": [
    {
     "name": "stdout",
     "output_type": "stream",
     "text": [
      "Reading package lists...\n",
      "Building dependency tree...\n",
      "Reading state information...\n",
      "The following package was automatically installed and is no longer required:\n",
      "  libnvidia-common-460\n",
      "Use 'apt autoremove' to remove it.\n",
      "The following NEW packages will be installed:\n",
      "  tree\n",
      "0 upgraded, 1 newly installed, 0 to remove and 21 not upgraded.\n",
      "Need to get 40.7 kB of archives.\n",
      "After this operation, 105 kB of additional disk space will be used.\n",
      "Get:1 http://archive.ubuntu.com/ubuntu bionic/universe amd64 tree amd64 1.7.0-5 [40.7 kB]\n",
      "Fetched 40.7 kB in 11s (3,793 B/s)\n",
      "Selecting previously unselected package tree.\n",
      "(Reading database ... 124016 files and directories currently installed.)\n",
      "Preparing to unpack .../tree_1.7.0-5_amd64.deb ...\n",
      "Unpacking tree (1.7.0-5) ...\n",
      "Setting up tree (1.7.0-5) ...\n",
      "Processing triggers for man-db (2.8.3-2ubuntu0.1) ...\n"
     ]
    }
   ],
   "source": [
    "# Check the directory structure of the Oxford Pet\n",
    "\n",
    "# Install tree first\n",
    "!apt-get -q install tree"
   ]
  },
  {
   "cell_type": "code",
   "execution_count": 7,
   "metadata": {
    "colab": {
     "base_uri": "https://localhost:8080/"
    },
    "executionInfo": {
     "elapsed": 675,
     "status": "ok",
     "timestamp": 1673570563714,
     "user": {
      "displayName": "최세현",
      "userId": "16846966499521370498"
     },
     "user_tz": -540
    },
    "id": "lCXqBBF1ZVmP",
    "outputId": "cb633d86-b47d-483f-d833-fe9066ce3487"
   },
   "outputs": [
    {
     "name": "stdout",
     "output_type": "stream",
     "text": [
      "./mask-detect-1/train [error opening dir]\n",
      "\n",
      "0 directories, 0 files\n"
     ]
    }
   ],
   "source": [
    "!tree ./mask-detect-1/train"
   ]
  },
  {
   "cell_type": "code",
   "execution_count": 8,
   "metadata": {
    "colab": {
     "base_uri": "https://localhost:8080/"
    },
    "executionInfo": {
     "elapsed": 19,
     "status": "ok",
     "timestamp": 1673570563716,
     "user": {
      "displayName": "최세현",
      "userId": "16846966499521370498"
     },
     "user_tz": -540
    },
    "id": "Mc6N3HNMZ3YD",
    "outputId": "1286a161-de4d-4d32-b922-fbe347d16479"
   },
   "outputs": [
    {
     "name": "stdout",
     "output_type": "stream",
     "text": [
      "[Errno 2] No such file or directory: 'mmdetection'\n",
      "/content/mmdetection\n"
     ]
    }
   ],
   "source": [
    "%cd mmdetection"
   ]
  },
  {
   "cell_type": "code",
   "execution_count": 9,
   "metadata": {
    "colab": {
     "base_uri": "https://localhost:8080/"
    },
    "executionInfo": {
     "elapsed": 63533,
     "status": "ok",
     "timestamp": 1673570627235,
     "user": {
      "displayName": "최세현",
      "userId": "16846966499521370498"
     },
     "user_tz": -540
    },
    "id": "X4M7qb-dZ7Y9",
    "outputId": "1b7af5f1-f960-49f3-f230-9c37d36c90e4"
   },
   "outputs": [
    {
     "name": "stdout",
     "output_type": "stream",
     "text": [
      "Reading package lists... Done\n",
      "Building dependency tree       \n",
      "Reading state information... Done\n",
      "The following package was automatically installed and is no longer required:\n",
      "  libnvidia-common-460\n",
      "Use 'sudo apt autoremove' to remove it.\n",
      "The following additional packages will be installed:\n",
      "  libjq1 libonig4\n",
      "The following NEW packages will be installed:\n",
      "  jq libjq1 libonig4\n",
      "0 upgraded, 3 newly installed, 0 to remove and 21 not upgraded.\n",
      "Need to get 276 kB of archives.\n",
      "After this operation, 930 kB of additional disk space will be used.\n",
      "Err:1 http://archive.ubuntu.com/ubuntu bionic/universe amd64 libonig4 amd64 6.7.0-1\n",
      "  Could not connect to archive.ubuntu.com:80 (185.125.190.36), connection timed out Could not connect to archive.ubuntu.com:80 (185.125.190.39), connection timed out Could not connect to archive.ubuntu.com:80 (91.189.91.39), connection timed out [IP: 91.189.91.39 80]\n",
      "Err:2 http://archive.ubuntu.com/ubuntu bionic/universe amd64 libjq1 amd64 1.5+dfsg-2\n",
      "  Unable to connect to archive.ubuntu.com:http: [IP: 91.189.91.39 80]\n",
      "Err:3 http://archive.ubuntu.com/ubuntu bionic/universe amd64 jq amd64 1.5+dfsg-2\n",
      "  Unable to connect to archive.ubuntu.com:http: [IP: 91.189.91.39 80]\n",
      "E: Failed to fetch http://archive.ubuntu.com/ubuntu/pool/universe/libo/libonig/libonig4_6.7.0-1_amd64.deb  Could not connect to archive.ubuntu.com:80 (185.125.190.36), connection timed out Could not connect to archive.ubuntu.com:80 (185.125.190.39), connection timed out Could not connect to archive.ubuntu.com:80 (91.189.91.39), connection timed out [IP: 91.189.91.39 80]\n",
      "E: Failed to fetch http://archive.ubuntu.com/ubuntu/pool/universe/j/jq/libjq1_1.5+dfsg-2_amd64.deb  Unable to connect to archive.ubuntu.com:http: [IP: 91.189.91.39 80]\n",
      "E: Failed to fetch http://archive.ubuntu.com/ubuntu/pool/universe/j/jq/jq_1.5+dfsg-2_amd64.deb  Unable to connect to archive.ubuntu.com:http: [IP: 91.189.91.39 80]\n",
      "E: Unable to fetch some archives, maybe run apt-get update or try with --fix-missing?\n"
     ]
    }
   ],
   "source": [
    "!sudo apt-get install jq"
   ]
  },
  {
   "cell_type": "code",
   "execution_count": 10,
   "metadata": {
    "colab": {
     "base_uri": "https://localhost:8080/"
    },
    "executionInfo": {
     "elapsed": 71,
     "status": "ok",
     "timestamp": 1673570627238,
     "user": {
      "displayName": "최세현",
      "userId": "16846966499521370498"
     },
     "user_tz": -540
    },
    "id": "jbGDL3KlZ-Iz",
    "outputId": "02374055-fb8b-4281-edeb-e37dd0c40624"
   },
   "outputs": [
    {
     "name": "stdout",
     "output_type": "stream",
     "text": [
      "/bin/bash: jq: command not found\n"
     ]
    }
   ],
   "source": [
    "!jq . ./mask-detect-1/train/_annotations.coco.json> output.json\n",
    "!head -100 output.json"
   ]
  },
  {
   "cell_type": "code",
   "execution_count": 11,
   "metadata": {
    "executionInfo": {
     "elapsed": 63,
     "status": "ok",
     "timestamp": 1673570627241,
     "user": {
      "displayName": "최세현",
      "userId": "16846966499521370498"
     },
     "user_tz": -540
    },
    "id": "WVylUKTiaNCT"
   },
   "outputs": [],
   "source": [
    "!grep -n 'annotations' output.json"
   ]
  },
  {
   "cell_type": "code",
   "execution_count": 12,
   "metadata": {
    "executionInfo": {
     "elapsed": 63,
     "status": "ok",
     "timestamp": 1673570627243,
     "user": {
      "displayName": "최세현",
      "userId": "16846966499521370498"
     },
     "user_tz": -540
    },
    "id": "WyX2v_5FaZd1"
   },
   "outputs": [],
   "source": [
    "!head -1600 output.json | tail -400 "
   ]
  },
  {
   "cell_type": "code",
   "execution_count": 13,
   "metadata": {
    "colab": {
     "base_uri": "https://localhost:8080/",
     "height": 400
    },
    "executionInfo": {
     "elapsed": 64,
     "status": "error",
     "timestamp": 1673570627245,
     "user": {
      "displayName": "최세현",
      "userId": "16846966499521370498"
     },
     "user_tz": -540
    },
    "id": "FTVq9fMbacdK",
    "outputId": "5884fa88-9d3a-46f6-800f-37267ac5be33"
   },
   "outputs": [
    {
     "ename": "FileNotFoundError",
     "evalue": "ignored",
     "output_type": "error",
     "traceback": [
      "\u001b[0;31m---------------------------------------------------------------------------\u001b[0m",
      "\u001b[0;31mFileNotFoundError\u001b[0m                         Traceback (most recent call last)",
      "\u001b[0;32m<ipython-input-13-f662d9e9a5fc>\u001b[0m in \u001b[0;36m<module>\u001b[0;34m\u001b[0m\n\u001b[1;32m      3\u001b[0m \u001b[0;32mimport\u001b[0m \u001b[0mmatplotlib\u001b[0m\u001b[0;34m.\u001b[0m\u001b[0mpyplot\u001b[0m \u001b[0;32mas\u001b[0m \u001b[0mplt\u001b[0m\u001b[0;34m\u001b[0m\u001b[0;34m\u001b[0m\u001b[0m\n\u001b[1;32m      4\u001b[0m \u001b[0;34m\u001b[0m\u001b[0m\n\u001b[0;32m----> 5\u001b[0;31m \u001b[0mimg\u001b[0m \u001b[0;34m=\u001b[0m \u001b[0mmmcv\u001b[0m\u001b[0;34m.\u001b[0m\u001b[0mimread\u001b[0m\u001b[0;34m(\u001b[0m\u001b[0;34m'mask-detect-1/test/maksssksksss199_png.rf.47955921bc67324de7adaea246c55efe.jpg'\u001b[0m\u001b[0;34m)\u001b[0m\u001b[0;34m\u001b[0m\u001b[0;34m\u001b[0m\u001b[0m\n\u001b[0m\u001b[1;32m      6\u001b[0m \u001b[0mplt\u001b[0m\u001b[0;34m.\u001b[0m\u001b[0mfigure\u001b[0m\u001b[0;34m(\u001b[0m\u001b[0mfigsize\u001b[0m\u001b[0;34m=\u001b[0m\u001b[0;34m(\u001b[0m\u001b[0;36m5\u001b[0m\u001b[0;34m,\u001b[0m \u001b[0;36m5\u001b[0m\u001b[0;34m)\u001b[0m\u001b[0;34m)\u001b[0m\u001b[0;34m\u001b[0m\u001b[0;34m\u001b[0m\u001b[0m\n\u001b[1;32m      7\u001b[0m \u001b[0mplt\u001b[0m\u001b[0;34m.\u001b[0m\u001b[0mimshow\u001b[0m\u001b[0;34m(\u001b[0m\u001b[0mmmcv\u001b[0m\u001b[0;34m.\u001b[0m\u001b[0mbgr2rgb\u001b[0m\u001b[0;34m(\u001b[0m\u001b[0mimg\u001b[0m\u001b[0;34m)\u001b[0m\u001b[0;34m)\u001b[0m\u001b[0;34m\u001b[0m\u001b[0;34m\u001b[0m\u001b[0m\n",
      "\u001b[0;32m/usr/local/lib/python3.8/dist-packages/mmcv/image/io.py\u001b[0m in \u001b[0;36mimread\u001b[0;34m(img_or_path, flag, channel_order, backend, file_client_args)\u001b[0m\n\u001b[1;32m    204\u001b[0m     \u001b[0;32melif\u001b[0m \u001b[0mis_str\u001b[0m\u001b[0;34m(\u001b[0m\u001b[0mimg_or_path\u001b[0m\u001b[0;34m)\u001b[0m\u001b[0;34m:\u001b[0m\u001b[0;34m\u001b[0m\u001b[0;34m\u001b[0m\u001b[0m\n\u001b[1;32m    205\u001b[0m         \u001b[0mfile_client\u001b[0m \u001b[0;34m=\u001b[0m \u001b[0mFileClient\u001b[0m\u001b[0;34m.\u001b[0m\u001b[0minfer_client\u001b[0m\u001b[0;34m(\u001b[0m\u001b[0mfile_client_args\u001b[0m\u001b[0;34m,\u001b[0m \u001b[0mimg_or_path\u001b[0m\u001b[0;34m)\u001b[0m\u001b[0;34m\u001b[0m\u001b[0;34m\u001b[0m\u001b[0m\n\u001b[0;32m--> 206\u001b[0;31m         \u001b[0mimg_bytes\u001b[0m \u001b[0;34m=\u001b[0m \u001b[0mfile_client\u001b[0m\u001b[0;34m.\u001b[0m\u001b[0mget\u001b[0m\u001b[0;34m(\u001b[0m\u001b[0mimg_or_path\u001b[0m\u001b[0;34m)\u001b[0m\u001b[0;34m\u001b[0m\u001b[0;34m\u001b[0m\u001b[0m\n\u001b[0m\u001b[1;32m    207\u001b[0m         \u001b[0;32mreturn\u001b[0m \u001b[0mimfrombytes\u001b[0m\u001b[0;34m(\u001b[0m\u001b[0mimg_bytes\u001b[0m\u001b[0;34m,\u001b[0m \u001b[0mflag\u001b[0m\u001b[0;34m,\u001b[0m \u001b[0mchannel_order\u001b[0m\u001b[0;34m,\u001b[0m \u001b[0mbackend\u001b[0m\u001b[0;34m)\u001b[0m\u001b[0;34m\u001b[0m\u001b[0;34m\u001b[0m\u001b[0m\n\u001b[1;32m    208\u001b[0m     \u001b[0;32melse\u001b[0m\u001b[0;34m:\u001b[0m\u001b[0;34m\u001b[0m\u001b[0;34m\u001b[0m\u001b[0m\n",
      "\u001b[0;32m/usr/local/lib/python3.8/dist-packages/mmcv/fileio/file_client.py\u001b[0m in \u001b[0;36mget\u001b[0;34m(self, filepath)\u001b[0m\n\u001b[1;32m   1015\u001b[0m             \u001b[0mbytes\u001b[0m \u001b[0mobject\u001b[0m\u001b[0;34m.\u001b[0m\u001b[0;34m\u001b[0m\u001b[0;34m\u001b[0m\u001b[0m\n\u001b[1;32m   1016\u001b[0m         \"\"\"\n\u001b[0;32m-> 1017\u001b[0;31m         \u001b[0;32mreturn\u001b[0m \u001b[0mself\u001b[0m\u001b[0;34m.\u001b[0m\u001b[0mclient\u001b[0m\u001b[0;34m.\u001b[0m\u001b[0mget\u001b[0m\u001b[0;34m(\u001b[0m\u001b[0mfilepath\u001b[0m\u001b[0;34m)\u001b[0m\u001b[0;34m\u001b[0m\u001b[0;34m\u001b[0m\u001b[0m\n\u001b[0m\u001b[1;32m   1018\u001b[0m \u001b[0;34m\u001b[0m\u001b[0m\n\u001b[1;32m   1019\u001b[0m     \u001b[0;32mdef\u001b[0m \u001b[0mget_text\u001b[0m\u001b[0;34m(\u001b[0m\u001b[0mself\u001b[0m\u001b[0;34m,\u001b[0m \u001b[0mfilepath\u001b[0m\u001b[0;34m:\u001b[0m \u001b[0mUnion\u001b[0m\u001b[0;34m[\u001b[0m\u001b[0mstr\u001b[0m\u001b[0;34m,\u001b[0m \u001b[0mPath\u001b[0m\u001b[0;34m]\u001b[0m\u001b[0;34m,\u001b[0m \u001b[0mencoding\u001b[0m\u001b[0;34m=\u001b[0m\u001b[0;34m'utf-8'\u001b[0m\u001b[0;34m)\u001b[0m \u001b[0;34m->\u001b[0m \u001b[0mstr\u001b[0m\u001b[0;34m:\u001b[0m\u001b[0;34m\u001b[0m\u001b[0;34m\u001b[0m\u001b[0m\n",
      "\u001b[0;32m/usr/local/lib/python3.8/dist-packages/mmcv/fileio/file_client.py\u001b[0m in \u001b[0;36mget\u001b[0;34m(self, filepath)\u001b[0m\n\u001b[1;32m    536\u001b[0m             \u001b[0mbytes\u001b[0m\u001b[0;34m:\u001b[0m \u001b[0mExpected\u001b[0m \u001b[0mbytes\u001b[0m \u001b[0mobject\u001b[0m\u001b[0;34m.\u001b[0m\u001b[0;34m\u001b[0m\u001b[0;34m\u001b[0m\u001b[0m\n\u001b[1;32m    537\u001b[0m         \"\"\"\n\u001b[0;32m--> 538\u001b[0;31m         \u001b[0;32mwith\u001b[0m \u001b[0mopen\u001b[0m\u001b[0;34m(\u001b[0m\u001b[0mfilepath\u001b[0m\u001b[0;34m,\u001b[0m \u001b[0;34m'rb'\u001b[0m\u001b[0;34m)\u001b[0m \u001b[0;32mas\u001b[0m \u001b[0mf\u001b[0m\u001b[0;34m:\u001b[0m\u001b[0;34m\u001b[0m\u001b[0;34m\u001b[0m\u001b[0m\n\u001b[0m\u001b[1;32m    539\u001b[0m             \u001b[0mvalue_buf\u001b[0m \u001b[0;34m=\u001b[0m \u001b[0mf\u001b[0m\u001b[0;34m.\u001b[0m\u001b[0mread\u001b[0m\u001b[0;34m(\u001b[0m\u001b[0;34m)\u001b[0m\u001b[0;34m\u001b[0m\u001b[0;34m\u001b[0m\u001b[0m\n\u001b[1;32m    540\u001b[0m         \u001b[0;32mreturn\u001b[0m \u001b[0mvalue_buf\u001b[0m\u001b[0;34m\u001b[0m\u001b[0;34m\u001b[0m\u001b[0m\n",
      "\u001b[0;31mFileNotFoundError\u001b[0m: [Errno 2] No such file or directory: 'mask-detect-1/test/maksssksksss199_png.rf.47955921bc67324de7adaea246c55efe.jpg'"
     ]
    }
   ],
   "source": [
    "# Let's take a look at the dataset image\n",
    "import mmcv\n",
    "import matplotlib.pyplot as plt\n",
    "\n",
    "img = mmcv.imread('mask-detect-1/test/maksssksksss199_png.rf.47955921bc67324de7adaea246c55efe.jpg')\n",
    "plt.figure(figsize=(5, 5))\n",
    "plt.imshow(mmcv.bgr2rgb(img))\n",
    "plt.show()"
   ]
  },
  {
   "cell_type": "code",
   "execution_count": null,
   "metadata": {
    "executionInfo": {
     "elapsed": 54,
     "status": "aborted",
     "timestamp": 1673570627251,
     "user": {
      "displayName": "최세현",
      "userId": "16846966499521370498"
     },
     "user_tz": -540
    },
    "id": "XjrlMRbUalGC"
   },
   "outputs": [],
   "source": [
    "dataDir='mask-detect-1/train'\n",
    "dataType='train'\n",
    "annFile='{}/_annotations.coco.json'.format(dataDir)\n",
    "print(annFile)"
   ]
  },
  {
   "cell_type": "code",
   "execution_count": null,
   "metadata": {
    "executionInfo": {
     "elapsed": 57,
     "status": "aborted",
     "timestamp": 1673570627255,
     "user": {
      "displayName": "최세현",
      "userId": "16846966499521370498"
     },
     "user_tz": -540
    },
    "id": "1c73ATVubJ6B"
   },
   "outputs": [],
   "source": [
    "# annotation 파일을 COCO객체로 로드하면 다양한 COCO객체의 API들을 이용하여 COCO DATASET 활용 가능\n",
    "from pycocotools.coco import COCO\n",
    "\n",
    "coco=COCO(annFile)"
   ]
  },
  {
   "cell_type": "code",
   "execution_count": null,
   "metadata": {
    "executionInfo": {
     "elapsed": 58,
     "status": "aborted",
     "timestamp": 1673570627256,
     "user": {
      "displayName": "최세현",
      "userId": "16846966499521370498"
     },
     "user_tz": -540
    },
    "id": "Xg9w1LLpbMtv"
   },
   "outputs": [],
   "source": [
    "# getCatIds()는 COCO Dataset의 category id를 리스트로 반환\n",
    "print(coco.getCatIds())"
   ]
  },
  {
   "cell_type": "code",
   "execution_count": null,
   "metadata": {
    "executionInfo": {
     "elapsed": 60,
     "status": "aborted",
     "timestamp": 1673570627258,
     "user": {
      "displayName": "최세현",
      "userId": "16846966499521370498"
     },
     "user_tz": -540
    },
    "id": "Fp3yh0rHbPql"
   },
   "outputs": [],
   "source": [
    "# loadCats()는 category id 리스트를 입력받아 category들에 대한 세부 정보를 여러개의 딕셔너리를 개별 원소를 가지는 리스트로 반환\n",
    "cats = coco.loadCats(coco.getCatIds())\n",
    "cats"
   ]
  },
  {
   "cell_type": "code",
   "execution_count": null,
   "metadata": {
    "executionInfo": {
     "elapsed": 62,
     "status": "aborted",
     "timestamp": 1673570627260,
     "user": {
      "displayName": "최세현",
      "userId": "16846966499521370498"
     },
     "user_tz": -540
    },
    "id": "U3krGYmqbRfS"
   },
   "outputs": [],
   "source": [
    "catIds = coco.getCatIds(catNms=['mask_weared_incorrect','with_mask','without_mask']);\n",
    "print(catIds)\n",
    "# coco.getImgIds(catIds=catIds)는 해당 catogory id별로 한개의 image id을 임의로 출력\n",
    "imgIds = coco.getImgIds(catIds=catIds )\n",
    "print(imgIds)"
   ]
  },
  {
   "cell_type": "code",
   "execution_count": null,
   "metadata": {
    "executionInfo": {
     "elapsed": 63,
     "status": "aborted",
     "timestamp": 1673570627262,
     "user": {
      "displayName": "최세현",
      "userId": "16846966499521370498"
     },
     "user_tz": -540
    },
    "id": "xPuAZWRubTwC"
   },
   "outputs": [],
   "source": [
    "#loadImgs()는 인자로 들어온 image id에 대한 메타 정보를 딕셔너리를 개별 원소로 가지는 리스트로 반환\n",
    "img = coco.loadImgs(1)\n",
    "print(img)"
   ]
  },
  {
   "cell_type": "code",
   "execution_count": null,
   "metadata": {
    "executionInfo": {
     "elapsed": 64,
     "status": "aborted",
     "timestamp": 1673570627263,
     "user": {
      "displayName": "최세현",
      "userId": "16846966499521370498"
     },
     "user_tz": -540
    },
    "id": "WZZTB--5biRI"
   },
   "outputs": [],
   "source": [
    "# 전체 리스트는 필요 없고 내부 딕셔너리만 필요하므로 [0]으로 내부 딕셔너리 추출 \n",
    "print(\"\\n내부 딕셔너리 파일 메타정보 추출\")\n",
    "img = coco.loadImgs(1)[0]\n",
    "print(img)"
   ]
  },
  {
   "cell_type": "code",
   "execution_count": null,
   "metadata": {
    "executionInfo": {
     "elapsed": 66,
     "status": "aborted",
     "timestamp": 1673570627265,
     "user": {
      "displayName": "최세현",
      "userId": "16846966499521370498"
     },
     "user_tz": -540
    },
    "id": "VvODfOwiblXY"
   },
   "outputs": [],
   "source": [
    "from mmcv import Config\n",
    "cfg = Config.fromfile('./configs/mask_rcnn/mask_rcnn_r101_fpn_1x_coco.py')\n",
    "print(f'Config:\\n{cfg.pretty_text}')"
   ]
  },
  {
   "cell_type": "code",
   "execution_count": null,
   "metadata": {
    "executionInfo": {
     "elapsed": 68,
     "status": "aborted",
     "timestamp": 1673570627267,
     "user": {
      "displayName": "최세현",
      "userId": "16846966499521370498"
     },
     "user_tz": -540
    },
    "id": "E3fffObYb1ex"
   },
   "outputs": [],
   "source": [
    "# We download the pre-trained checkpoints for inference and finetuning.\n",
    "!mkdir checkpoints\n",
    "!wget -c https://download.openmmlab.com/mmdetection/v2.0/mask_rcnn/mask_rcnn_r101_fpn_1x_coco/mask_rcnn_r101_fpn_1x_coco_20200204-1efe0ed5.pth \\\n",
    "      -O checkpoints/mask_rcnn_r101_fpn_1x_coco_20200204-1efe0ed5.pth"
   ]
  },
  {
   "cell_type": "code",
   "execution_count": null,
   "metadata": {
    "executionInfo": {
     "elapsed": 128652,
     "status": "aborted",
     "timestamp": 1673570627270,
     "user": {
      "displayName": "최세현",
      "userId": "16846966499521370498"
     },
     "user_tz": -540
    },
    "id": "uxaic1DxcJkK"
   },
   "outputs": [],
   "source": [
    "# 학습 수행후 모델 checkpoint 저장할 공간 연결\n",
    "!mkdir masklog"
   ]
  },
  {
   "cell_type": "code",
   "execution_count": null,
   "metadata": {
    "executionInfo": {
     "elapsed": 128647,
     "status": "aborted",
     "timestamp": 1673570627272,
     "user": {
      "displayName": "최세현",
      "userId": "16846966499521370498"
     },
     "user_tz": -540
    },
    "id": "Z3yNhGDxcVx2"
   },
   "outputs": [],
   "source": [
    "from mmdet.apis import set_random_seed\n",
    "\n",
    "# Modify dataset type and path\n",
    "cfg.dataset_type = 'CocoDataset'\n",
    "cfg.data_root = 'mask-detect-1/'\n",
    "\n",
    "cfg.data.test.type = 'CocoDataset'\n",
    "cfg.data.test.data_root = 'mask-detect-1/test/'\n",
    "cfg.data.test.ann_file = '_annotations.coco.json'\n",
    "cfg.data.test.img_prefix = ''\n",
    "\n",
    "cfg.data.train.type = 'CocoDataset'\n",
    "cfg.data.train.data_root = 'mask-detect-1/train/'\n",
    "cfg.data.train.ann_file = '_annotations.coco.json'\n",
    "cfg.data.train.img_prefix = ''\n",
    "\n",
    "cfg.data.val.type = 'CocoDataset'\n",
    "cfg.data.val.data_root = 'mask-detect-1/valid/'\n",
    "cfg.data.val.ann_file = '_annotations.coco.json'\n",
    "cfg.data.val.img_prefix = ''\n",
    "\n",
    "# modify num classes of the model in box head\n",
    "cfg.model.roi_head.bbox_head.num_classes = 3\n",
    "cfg.model.roi_head.mask_head.num_classes = 3\n",
    "\n",
    "# If we need to finetune a model based on a pre-trained detector, we need to\n",
    "# use load_from to set the path of checkpoints.\n",
    "cfg.load_from = 'checkpoints/mask_rcnn_r101_fpn_1x_coco_20200204-1efe0ed5.pth'\n",
    "\n",
    "# Set up working dir to save files and logs.\n",
    "cfg.work_dir = 'masklog'\n",
    "\n",
    "# The original learning rate (LR) is set for 8-GPU training.\n",
    "# We divide it by 8 since we only use one GPU.\n",
    "cfg.optimizer.lr = 0.02 / 8\n",
    "# cfg.lr_config.warmup = None\n",
    "cfg.log_config.interval = 10\n",
    "\n",
    "# max epochs 12 \n",
    "# cfg.runner.max_epochs = 12 # 기본값 변경시에만 설정\n",
    "\n",
    "# 학습 시 Batch size 설정(단일 GPU 별 Batch size로 설정됨)\n",
    "# samples_per_gpu 2 \n",
    "# cfg.data.samples_per_gpu = 2 # 기본값 변경시에만설정\n",
    "\n",
    "# Change the evaluation metric since we use customized dataset.\n",
    "# note.\n",
    "# detection evaluation에 map를 설정하면 iou가 0.5 일때만\n",
    "# cocodata로 detection 할 때는 bbox를 설정해야 다양한 iou 기준 출력\n",
    "# cocodata로 segmentation 할때는 bbox, segm을 지정\n",
    "# CocoDataset의 경우 metric을 bbox로 설정해야 함.(mAP아님. bbox로 설정하면 mAP를 iou threshold를 0.5 ~ 0.95까지 변경하면서 측정)\n",
    "cfg.evaluation.metric = ['bbox']\n",
    "\n",
    "# We can set the evaluation interval to reduce the evaluation times\n",
    "cfg.evaluation.interval = 12\n",
    "# We can set the checkpoint saving interval to reduce the storage cost\n",
    "cfg.checkpoint_config.interval = 12\n",
    "# cfg.workflow = [('train', 1), ('val', 1)] # val loss 나오도록\n",
    "\n",
    "# Set seed thus the results are more reproducible\n",
    "cfg.seed = 0\n",
    "set_random_seed(0, deterministic=False)\n",
    "cfg.device = 'cuda'\n",
    "cfg.gpu_ids = range(1)\n",
    "\n",
    "# We can also use tensorboard to log the training process\n",
    "cfg.log_config.hooks = [\n",
    "    dict(type='TextLoggerHook'),\n",
    "    dict(type='TensorboardLoggerHook')]\n",
    "\n",
    "\n",
    "# We can initialize the logger for training and have a look\n",
    "# at the final config used for training\n",
    "print(f'Config:\\n{cfg.pretty_text}')"
   ]
  },
  {
   "cell_type": "code",
   "execution_count": null,
   "metadata": {
    "executionInfo": {
     "elapsed": 128640,
     "status": "aborted",
     "timestamp": 1673570627273,
     "user": {
      "displayName": "최세현",
      "userId": "16846966499521370498"
     },
     "user_tz": -540
    },
    "id": "fcE7VkQCdYQR"
   },
   "outputs": [],
   "source": [
    "from mmdet.datasets import build_dataset\n",
    "\n",
    "# Build dataset\n",
    "train_datasets = [build_dataset(cfg.data.train)]\n",
    "test_dataset =build_dataset(cfg.data.test)"
   ]
  },
  {
   "cell_type": "code",
   "execution_count": null,
   "metadata": {
    "executionInfo": {
     "elapsed": 128635,
     "status": "aborted",
     "timestamp": 1673570627276,
     "user": {
      "displayName": "최세현",
      "userId": "16846966499521370498"
     },
     "user_tz": -540
    },
    "id": "v5y_FUhedf7v"
   },
   "outputs": [],
   "source": [
    "train_datasets # 209개의train imgage"
   ]
  },
  {
   "cell_type": "code",
   "execution_count": null,
   "metadata": {
    "executionInfo": {
     "elapsed": 128629,
     "status": "aborted",
     "timestamp": 1673570627279,
     "user": {
      "displayName": "최세현",
      "userId": "16846966499521370498"
     },
     "user_tz": -540
    },
    "id": "f2Db_GJIeUqd"
   },
   "outputs": [],
   "source": [
    "from mmdet.models import build_detector\n",
    "from mmcv.runner import load_checkpoint\n",
    "\n",
    "# Build the detector\n",
    "checkpoint_file='checkpoints/mask_rcnn_r101_fpn_1x_coco_20200204-1efe0ed5.pth''\n",
    "model = build_detector(cfg.model)\n",
    "model.cfg=cfg\n",
    "model.to(device)"
   ]
  },
  {
   "cell_type": "code",
   "execution_count": null,
   "metadata": {
    "executionInfo": {
     "elapsed": 128623,
     "status": "aborted",
     "timestamp": 1673570627281,
     "user": {
      "displayName": "최세현",
      "userId": "16846966499521370498"
     },
     "user_tz": -540
    },
    "id": "b27H_jLztIn5"
   },
   "outputs": [],
   "source": [
    "from google.colab import drive\n",
    "drive.mount('/content/drive')"
   ]
  },
  {
   "cell_type": "code",
   "execution_count": null,
   "metadata": {
    "executionInfo": {
     "elapsed": 128616,
     "status": "aborted",
     "timestamp": 1673570627283,
     "user": {
      "displayName": "최세현",
      "userId": "16846966499521370498"
     },
     "user_tz": -540
    },
    "id": "xGBsrTd1zwp_"
   },
   "outputs": [],
   "source": [
    "import os\n",
    "from mmdet.apis import train_detector\n",
    "\n",
    "# Create work_dir\n",
    "mmcv.mkdir_or_exist(os.path.abspath(cfg.work_dir))\n",
    "train_detector(model, cfg, distributed=False, validate=True) # validate=True : validation 데이터로 evaluation"
   ]
  },
  {
   "cell_type": "code",
   "execution_count": null,
   "metadata": {
    "executionInfo": {
     "elapsed": 128612,
     "status": "aborted",
     "timestamp": 1673570627284,
     "user": {
      "displayName": "최세현",
      "userId": "16846966499521370498"
     },
     "user_tz": -540
    },
    "id": "yN13MTP5z5bU"
   },
   "outputs": [],
   "source": []
  }
 ],
 "metadata": {
  "accelerator": "GPU",
  "colab": {
   "authorship_tag": "ABX9TyO6smciToroc09nuuTrRLwA",
   "machine_shape": "hm",
   "provenance": []
  },
  "gpuClass": "standard",
  "kernelspec": {
   "display_name": "Python 3 (ipykernel)",
   "language": "python",
   "name": "python3"
  },
  "language_info": {
   "codemirror_mode": {
    "name": "ipython",
    "version": 3
   },
   "file_extension": ".py",
   "mimetype": "text/x-python",
   "name": "python",
   "nbconvert_exporter": "python",
   "pygments_lexer": "ipython3",
   "version": "3.8.15"
  }
 },
 "nbformat": 4,
 "nbformat_minor": 1
}
