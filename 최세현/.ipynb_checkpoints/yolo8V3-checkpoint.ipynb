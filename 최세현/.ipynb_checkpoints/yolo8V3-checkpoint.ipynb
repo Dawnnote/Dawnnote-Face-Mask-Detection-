{
 "cells": [
  {
   "cell_type": "code",
   "execution_count": null,
   "metadata": {
    "_cell_guid": "b1076dfc-b9ad-4769-8c92-a6c4dae69d19",
    "_uuid": "8f2839f25d086af736a60e9eeb907d3b93b6e0e5",
    "execution": {
     "iopub.execute_input": "2023-01-12T00:44:16.267588Z",
     "iopub.status.busy": "2023-01-12T00:44:16.267200Z",
     "iopub.status.idle": "2023-01-12T00:44:16.277503Z",
     "shell.execute_reply": "2023-01-12T00:44:16.276584Z",
     "shell.execute_reply.started": "2023-01-12T00:44:16.267545Z"
    }
   },
   "outputs": [],
   "source": [
    "# This Python 3 environment comes with many helpful analytics libraries installed\n",
    "# It is defined by the kaggle/python Docker image: https://github.com/kaggle/docker-python\n",
    "# For example, here's several helpful packages to load\n",
    "\n",
    "import numpy as np # linear algebra\n",
    "import pandas as pd # data processing, CSV file I/O (e.g. pd.read_csv)\n",
    "\n",
    "# Input data files are available in the read-only \"../input/\" directory\n",
    "# For example, running this (by clicking run or pressing Shift+Enter) will list all files under the input directory\n",
    "\n",
    "import os\n",
    "for dirname, _, filenames in os.walk('/kaggle/input'):\n",
    "    for filename in filenames:\n",
    "        print(os.path.join(dirname, filename))\n",
    "\n",
    "# You can write up to 20GB to the current directory (/kaggle/working/) that gets preserved as output when you create a version using \"Save & Run All\" \n",
    "# You can also write temporary files to /kaggle/temp/, but they won't be saved outside of the current session"
   ]
  },
  {
   "cell_type": "code",
   "execution_count": null,
   "metadata": {
    "execution": {
     "iopub.execute_input": "2023-01-12T00:45:19.261235Z",
     "iopub.status.busy": "2023-01-12T00:45:19.260769Z",
     "iopub.status.idle": "2023-01-12T00:45:29.523867Z",
     "shell.execute_reply": "2023-01-12T00:45:29.522670Z",
     "shell.execute_reply.started": "2023-01-12T00:45:19.261193Z"
    }
   },
   "outputs": [],
   "source": [
    "!pip install ultralytics"
   ]
  },
  {
   "cell_type": "code",
   "execution_count": null,
   "metadata": {
    "execution": {
     "iopub.execute_input": "2023-01-12T00:46:30.408948Z",
     "iopub.status.busy": "2023-01-12T00:46:30.408447Z",
     "iopub.status.idle": "2023-01-12T00:46:49.530655Z",
     "shell.execute_reply": "2023-01-12T00:46:49.529401Z",
     "shell.execute_reply.started": "2023-01-12T00:46:30.408903Z"
    }
   },
   "outputs": [],
   "source": [
    "!yolo task=detect mode=predict model=yolov8n.pt source=\"https://ultralytics.com/images/bus.jpg\"\n"
   ]
  },
  {
   "cell_type": "code",
   "execution_count": null,
   "metadata": {
    "execution": {
     "iopub.execute_input": "2023-01-12T00:47:25.100650Z",
     "iopub.status.busy": "2023-01-12T00:47:25.100248Z",
     "iopub.status.idle": "2023-01-12T00:47:25.710216Z",
     "shell.execute_reply": "2023-01-12T00:47:25.709255Z",
     "shell.execute_reply.started": "2023-01-12T00:47:25.100591Z"
    }
   },
   "outputs": [],
   "source": [
    "# Import required libraries\n",
    "import pandas as pd\n",
    "import numpy as np\n",
    "import os\n",
    "import random\n",
    "import glob\n",
    "from datetime import datetime\n",
    "import xml.etree.ElementTree as ET \n",
    "import cv2\n",
    "import matplotlib.pyplot as plt\n",
    "import seaborn as sns\n",
    "import yaml\n",
    "import shutil\n",
    "import warnings\n",
    "warnings.filterwarnings('ignore')"
   ]
  },
  {
   "cell_type": "code",
   "execution_count": null,
   "metadata": {
    "execution": {
     "iopub.execute_input": "2023-01-12T00:50:16.157215Z",
     "iopub.status.busy": "2023-01-12T00:50:16.156501Z",
     "iopub.status.idle": "2023-01-12T00:50:16.471434Z",
     "shell.execute_reply": "2023-01-12T00:50:16.470490Z",
     "shell.execute_reply.started": "2023-01-12T00:50:16.157177Z"
    }
   },
   "outputs": [],
   "source": [
    "img= plt.imread('/kaggle/working/runs/detect/predict/bus.jpg')\n",
    "plt.imshow(img)\n",
    "plt.show()"
   ]
  },
  {
   "cell_type": "code",
   "execution_count": null,
   "metadata": {
    "execution": {
     "iopub.execute_input": "2023-01-12T00:52:40.461350Z",
     "iopub.status.busy": "2023-01-12T00:52:40.460981Z",
     "iopub.status.idle": "2023-01-12T00:53:44.268111Z",
     "shell.execute_reply": "2023-01-12T00:53:44.267021Z",
     "shell.execute_reply.started": "2023-01-12T00:52:40.461321Z"
    }
   },
   "outputs": [],
   "source": [
    "!pip install roboflow\n",
    "\n",
    "from roboflow import Roboflow\n",
    "rf = Roboflow(api_key=\"qs3XhDwQ26bO8wkcWXuu\")\n",
    "project = rf.workspace(\"encoa\").project(\"mask-detect-ugmdz\")\n",
    "dataset = project.version(1).download(\"yolov8\")"
   ]
  },
  {
   "cell_type": "code",
   "execution_count": null,
   "metadata": {
    "collapsed": true,
    "execution": {
     "iopub.execute_input": "2023-01-12T00:56:55.800384Z",
     "iopub.status.busy": "2023-01-12T00:56:55.800025Z",
     "iopub.status.idle": "2023-01-12T00:57:01.362064Z",
     "shell.execute_reply": "2023-01-12T00:57:01.360881Z",
     "shell.execute_reply.started": "2023-01-12T00:56:55.800352Z"
    },
    "jupyter": {
     "outputs_hidden": true
    }
   },
   "outputs": [],
   "source": [
    "!curl -L \"https://app.roboflow.com/ds/CWlHwPi8q0?key=igaEdM6DqI\" > roboflow.zip; unzip roboflow.zip; rm roboflow.zip"
   ]
  },
  {
   "cell_type": "code",
   "execution_count": null,
   "metadata": {
    "execution": {
     "iopub.execute_input": "2023-01-12T00:59:42.586475Z",
     "iopub.status.busy": "2023-01-12T00:59:42.585501Z",
     "iopub.status.idle": "2023-01-12T01:18:23.278977Z",
     "shell.execute_reply": "2023-01-12T01:18:23.277277Z",
     "shell.execute_reply.started": "2023-01-12T00:59:42.586436Z"
    }
   },
   "outputs": [],
   "source": [
    "from ultralytics import YOLO\n",
    "\n",
    "# Load a model\n",
    "model = YOLO(\"yolov8n.yaml\")  # build a new model from scratch\n",
    "model = YOLO(\"yolov8n.pt\")  # load a pretrained model (recommended for training)\n",
    "\n",
    "# Use the model\n",
    "results = model.train(data=\"data.yaml\", epochs=50)  # train the model\n",
    "results = model.val()  # evaluate model performance on the validation set\n",
    "results = model(\"https://newsimg.hankookilbo.com/cms/articlerelease/2020/05/06/202005061378388912_1.jpg\")  # predict on an image\n",
    "success = YOLO(\"yolov8n.pt\").export(format=\"onnx\")  # export a model to ONNX format"
   ]
  },
  {
   "cell_type": "code",
   "execution_count": null,
   "metadata": {
    "execution": {
     "iopub.execute_input": "2023-01-12T01:21:40.195589Z",
     "iopub.status.busy": "2023-01-12T01:21:40.194539Z",
     "iopub.status.idle": "2023-01-12T01:21:40.727725Z",
     "shell.execute_reply": "2023-01-12T01:21:40.726755Z",
     "shell.execute_reply.started": "2023-01-12T01:21:40.195545Z"
    }
   },
   "outputs": [],
   "source": [
    "results = model(\"/kaggle/input/maskpro/1.jpg\")  # predict on an image\n",
    "success = YOLO(\"yolov8n.pt\").export(format=\"onnx\")  # export a model to ONNX format"
   ]
  },
  {
   "cell_type": "code",
   "execution_count": null,
   "metadata": {
    "execution": {
     "iopub.execute_input": "2023-01-12T01:23:12.454739Z",
     "iopub.status.busy": "2023-01-12T01:23:12.454342Z",
     "iopub.status.idle": "2023-01-12T01:23:22.251895Z",
     "shell.execute_reply": "2023-01-12T01:23:22.250657Z",
     "shell.execute_reply.started": "2023-01-12T01:23:12.454709Z"
    }
   },
   "outputs": [],
   "source": [
    "!pip install torch"
   ]
  },
  {
   "cell_type": "code",
   "execution_count": null,
   "metadata": {},
   "outputs": [],
   "source": []
  },
  {
   "cell_type": "code",
   "execution_count": null,
   "metadata": {
    "execution": {
     "iopub.execute_input": "2023-01-12T01:24:35.757238Z",
     "iopub.status.busy": "2023-01-12T01:24:35.756847Z",
     "iopub.status.idle": "2023-01-12T01:24:35.801690Z",
     "shell.execute_reply": "2023-01-12T01:24:35.800330Z",
     "shell.execute_reply.started": "2023-01-12T01:24:35.757204Z"
    }
   },
   "outputs": [],
   "source": [
    "img= plt.imread('/kaggle/working/runs/detect/predict/1.jpg')\n",
    "plt.imshow(img)\n",
    "plt.show()"
   ]
  },
  {
   "cell_type": "code",
   "execution_count": null,
   "metadata": {
    "execution": {
     "iopub.execute_input": "2023-01-12T01:26:00.146835Z",
     "iopub.status.busy": "2023-01-12T01:26:00.146431Z",
     "iopub.status.idle": "2023-01-12T01:26:07.726112Z",
     "shell.execute_reply": "2023-01-12T01:26:07.724914Z",
     "shell.execute_reply.started": "2023-01-12T01:26:00.146801Z"
    }
   },
   "outputs": [],
   "source": [
    "runs/detect/train/weights/best.pt source=\"/kaggle/input/maskpro/1.jpg\""
   ]
  },
  {
   "cell_type": "code",
   "execution_count": null,
   "metadata": {
    "execution": {
     "iopub.execute_input": "2023-01-12T02:20:24.760417Z",
     "iopub.status.busy": "2023-01-12T02:20:24.760003Z",
     "iopub.status.idle": "2023-01-12T02:20:25.851936Z",
     "shell.execute_reply": "2023-01-12T02:20:25.850743Z",
     "shell.execute_reply.started": "2023-01-12T02:20:24.760381Z"
    }
   },
   "outputs": [],
   "source": []
  },
  {
   "cell_type": "code",
   "execution_count": null,
   "metadata": {
    "execution": {
     "iopub.execute_input": "2023-01-12T02:23:42.944486Z",
     "iopub.status.busy": "2023-01-12T02:23:42.944120Z",
     "iopub.status.idle": "2023-01-12T02:23:43.420478Z",
     "shell.execute_reply": "2023-01-12T02:23:43.419639Z",
     "shell.execute_reply.started": "2023-01-12T02:23:42.944456Z"
    }
   },
   "outputs": [],
   "source": [
    "img= plt.imread('runs/detect/predict7/2.jpg')\n",
    "plt.figure(figsize=(15, 10))\n",
    "plt.imshow(img)\n",
    "plt.grid(False)\n",
    "plt.show()"
   ]
  },
  {
   "cell_type": "code",
   "execution_count": null,
   "metadata": {},
   "outputs": [],
   "source": [
    "!yolo task=detect mode=predict model=runs/detect/train/weights/best.pt source=\"/kaggle/input/maskpro/1.jpg\""
   ]
  },
  {
   "cell_type": "code",
   "execution_count": null,
   "metadata": {
    "execution": {
     "iopub.execute_input": "2023-01-12T02:15:44.308671Z",
     "iopub.status.busy": "2023-01-12T02:15:44.307519Z",
     "iopub.status.idle": "2023-01-12T02:15:52.108241Z",
     "shell.execute_reply": "2023-01-12T02:15:52.107157Z",
     "shell.execute_reply.started": "2023-01-12T02:15:44.308600Z"
    }
   },
   "outputs": [],
   "source": [
    "!yolo task=detect mode=predict line_thickness=1 model=runs/detect/train/weights/best.pt source=\"/kaggle/input/maskpro/\""
   ]
  },
  {
   "cell_type": "code",
   "execution_count": null,
   "metadata": {
    "execution": {
     "iopub.execute_input": "2023-01-12T02:16:28.034344Z",
     "iopub.status.busy": "2023-01-12T02:16:28.033970Z",
     "iopub.status.idle": "2023-01-12T02:16:28.373061Z",
     "shell.execute_reply": "2023-01-12T02:16:28.372225Z",
     "shell.execute_reply.started": "2023-01-12T02:16:28.034312Z"
    }
   },
   "outputs": [],
   "source": [
    "plt.figure(figsize=(10, 6))\n",
    "\n",
    "img= plt.imread('runs/detect/predict6/1.jpg')\n",
    "plt.imshow(img)\n",
    "plt.show()"
   ]
  },
  {
   "cell_type": "code",
   "execution_count": null,
   "metadata": {
    "execution": {
     "iopub.execute_input": "2023-01-12T02:23:11.672730Z",
     "iopub.status.busy": "2023-01-12T02:23:11.671724Z",
     "iopub.status.idle": "2023-01-12T02:23:19.149368Z",
     "shell.execute_reply": "2023-01-12T02:23:19.147920Z",
     "shell.execute_reply.started": "2023-01-12T02:23:11.672695Z"
    }
   },
   "outputs": [],
   "source": [
    "!yolo task=detect mode=predict line_thickness=2 model=runs/detect/train/weights/best.pt source=\"/kaggle/input/maskpro/\""
   ]
  },
  {
   "cell_type": "code",
   "execution_count": null,
   "metadata": {
    "execution": {
     "iopub.execute_input": "2023-01-12T02:28:54.660711Z",
     "iopub.status.busy": "2023-01-12T02:28:54.660311Z",
     "iopub.status.idle": "2023-01-12T02:28:54.669989Z",
     "shell.execute_reply": "2023-01-12T02:28:54.668808Z",
     "shell.execute_reply.started": "2023-01-12T02:28:54.660682Z"
    }
   },
   "outputs": [],
   "source": [
    "from IPython.display import FileLink\n",
    "\n",
    "FileLink(r'runs/detect/train/weights/best.pt')"
   ]
  },
  {
   "cell_type": "code",
   "execution_count": null,
   "metadata": {
    "execution": {
     "iopub.execute_input": "2023-01-12T02:41:48.252971Z",
     "iopub.status.busy": "2023-01-12T02:41:48.251699Z",
     "iopub.status.idle": "2023-01-12T02:41:49.501377Z",
     "shell.execute_reply": "2023-01-12T02:41:49.499972Z",
     "shell.execute_reply.started": "2023-01-12T02:41:48.252925Z"
    }
   },
   "outputs": [],
   "source": [
    "!ls -la "
   ]
  },
  {
   "cell_type": "code",
   "execution_count": null,
   "metadata": {
    "execution": {
     "iopub.execute_input": "2023-01-12T02:41:12.780737Z",
     "iopub.status.busy": "2023-01-12T02:41:12.780308Z",
     "iopub.status.idle": "2023-01-12T02:41:13.882628Z",
     "shell.execute_reply": "2023-01-12T02:41:13.881321Z",
     "shell.execute_reply.started": "2023-01-12T02:41:12.780695Z"
    }
   },
   "outputs": [],
   "source": []
  },
  {
   "cell_type": "code",
   "execution_count": null,
   "metadata": {},
   "outputs": [],
   "source": []
  }
 ],
 "metadata": {
  "kernelspec": {
   "display_name": "Python 3 (ipykernel)",
   "language": "python",
   "name": "python3"
  },
  "language_info": {
   "codemirror_mode": {
    "name": "ipython",
    "version": 3
   },
   "file_extension": ".py",
   "mimetype": "text/x-python",
   "name": "python",
   "nbconvert_exporter": "python",
   "pygments_lexer": "ipython3",
   "version": "3.8.15"
  }
 },
 "nbformat": 4,
 "nbformat_minor": 4
}
